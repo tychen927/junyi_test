{
 "cells": [
  {
   "cell_type": "markdown",
   "metadata": {},
   "source": [
    "# 第一題"
   ]
  },
  {
   "cell_type": "code",
   "execution_count": 90,
   "metadata": {},
   "outputs": [],
   "source": [
    "def reverse_str(text):\n",
    "    result = \"\"\n",
    "    for a in range(0,len(text)):\n",
    "        result += text[len(text)-a-1]\n",
    "    return result"
   ]
  },
  {
   "cell_type": "code",
   "execution_count": 91,
   "metadata": {},
   "outputs": [
    {
     "data": {
      "text/plain": [
       "'dcba'"
      ]
     },
     "execution_count": 91,
     "metadata": {},
     "output_type": "execute_result"
    }
   ],
   "source": [
    "reverse_str(\"abcd\")"
   ]
  },
  {
   "cell_type": "markdown",
   "metadata": {},
   "source": [
    "# 第二題"
   ]
  },
  {
   "cell_type": "code",
   "execution_count": 86,
   "metadata": {
    "collapsed": true
   },
   "outputs": [],
   "source": [
    "import math"
   ]
  },
  {
   "cell_type": "code",
   "execution_count": 87,
   "metadata": {
    "collapsed": true
   },
   "outputs": [],
   "source": [
    "def count_3_5(number):\n",
    "    a = math.floor(number / 5)\n",
    "    b = math.floor(number / 3)\n",
    "    c = math.floor(number / 15)\n",
    "    print(number-a-b+c+1)"
   ]
  },
  {
   "cell_type": "code",
   "execution_count": 88,
   "metadata": {},
   "outputs": [
    {
     "name": "stdout",
     "output_type": "stream",
     "text": [
      "9\n"
     ]
    }
   ],
   "source": [
    "count_3_5(15)"
   ]
  },
  {
   "cell_type": "markdown",
   "metadata": {},
   "source": [
    "# 第三題\n",
    "打開看了其中一個後，  \n",
    "假設是寫鉛筆、但是是原子筆，則我們知道   \n",
    "1) 該袋是原子筆 2) 寫混合那袋一定不是混合、也一定不是原子筆，則一定是鉛筆 3) 剩下那袋一定是混合  \n",
    "以此類推  \n",
    "  \n",
    "  \n",
    "  \n",
    "抽象來說，打開其中一袋發現寫 A、但為 B，  \n",
    "1. 該袋為 B\n",
    "2. 寫 C 的那袋不為 C、也不為 B，則一定為 A\n",
    "3. A, B 都知道了，則剩下那袋一定為 C"
   ]
  },
  {
   "cell_type": "markdown",
   "metadata": {},
   "source": [
    "# 第四題\n",
    "因為當把 3 人的 300 元減掉 30 元（服務生退給她們的錢）時，得到的是一個「有折扣」的價格 ; 此時如果把這個數字 * 3 再加上服務生拿走的錢，得到的數字自然會是「有折扣（雖然不是全部折扣，因為服務生拿走了一些）」的價格，而非「原先的 900 元」"
   ]
  }
 ],
 "metadata": {
  "kernelspec": {
   "display_name": "Python 3",
   "language": "python",
   "name": "python3"
  },
  "language_info": {
   "codemirror_mode": {
    "name": "ipython",
    "version": 3
   },
   "file_extension": ".py",
   "mimetype": "text/x-python",
   "name": "python",
   "nbconvert_exporter": "python",
   "pygments_lexer": "ipython3",
   "version": "3.6.2"
  }
 },
 "nbformat": 4,
 "nbformat_minor": 1
}
